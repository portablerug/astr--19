{
 "cells": [
  {
   "cell_type": "code",
   "execution_count": 45,
   "id": "796255e4",
   "metadata": {},
   "outputs": [],
   "source": [
    "import numpy as np"
   ]
  },
  {
   "cell_type": "markdown",
   "id": "7205610a",
   "metadata": {},
   "source": [
    "Import the numpy python library"
   ]
  },
  {
   "cell_type": "code",
   "execution_count": 46,
   "id": "a15fdcd3",
   "metadata": {},
   "outputs": [],
   "source": [
    "def sine(x):\n",
    "    \n",
    "    return np.sin(x)\n",
    "\n",
    "def cosine(x):\n",
    "    return np.cos(x)"
   ]
  },
  {
   "cell_type": "code",
   "execution_count": 47,
   "id": "bc4d62dd",
   "metadata": {},
   "outputs": [],
   "source": [
    "x = np.linspace(0, 2*np.pi, 1000)\n",
    "\n",
    "sin = sine(x)\n",
    "cos = cosine(x)"
   ]
  },
  {
   "cell_type": "code",
   "execution_count": 51,
   "id": "278849d9",
   "metadata": {},
   "outputs": [
    {
     "name": "stdout",
     "output_type": "stream",
     "text": [
      "x     |sin(x)|cos(x)\n",
      "0.0000|0.0000|1.0000\n",
      "0.0063|0.0063|1.0000\n",
      "0.0126|0.0126|0.9999\n",
      "0.0189|0.0189|0.9998\n",
      "0.0252|0.0252|0.9997\n",
      "0.0314|0.0314|0.9995\n",
      "0.0377|0.0377|0.9993\n",
      "0.0440|0.0440|0.9990\n",
      "0.0503|0.0503|0.9987\n",
      "0.0566|0.0566|0.9984\n"
     ]
    }
   ],
   "source": [
    "print (\"x     |sin(x)|cos(x)\")\n",
    "for i in range(10):\n",
    "    print(f\"{x[i]:.4f}|{sin[i]:.4f}|{cos[i]:.4f}\")"
   ]
  },
  {
   "cell_type": "code",
   "execution_count": null,
   "id": "fa6c0f4c",
   "metadata": {},
   "outputs": [],
   "source": []
  }
 ],
 "metadata": {
  "kernelspec": {
   "display_name": "Python 3 (ipykernel)",
   "language": "python",
   "name": "python3"
  },
  "language_info": {
   "codemirror_mode": {
    "name": "ipython",
    "version": 3
   },
   "file_extension": ".py",
   "mimetype": "text/x-python",
   "name": "python",
   "nbconvert_exporter": "python",
   "pygments_lexer": "ipython3",
   "version": "3.11.0"
  }
 },
 "nbformat": 4,
 "nbformat_minor": 5
}

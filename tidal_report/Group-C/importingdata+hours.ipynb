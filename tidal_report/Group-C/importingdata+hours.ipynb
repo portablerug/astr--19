{
 "cells": [
  {
   "cell_type": "markdown",
   "id": "e6d27747-a3eb-4873-ae62-edba65835768",
   "metadata": {},
   "source": [
    "# Import Libraries"
   ]
  },
  {
   "cell_type": "code",
   "execution_count": null,
   "id": "34850d6e-a034-491f-8ca8-2531d6f9d0b7",
   "metadata": {},
   "outputs": [],
   "source": [
    "import numpy as np\n",
    "import datetime\n",
    "from datetime import datetime\n",
    "import matplotlib.pyplot as plt\n",
    "from matplotlib.ticker import MultipleLocator\n",
    "from astropy.io import ascii\n",
    "from scipy import optimize\n",
    "from scipy.optimize import curve_fit\n",
    "import pandas as pd"
   ]
  },
  {
   "cell_type": "markdown",
   "id": "b58f23b0-4ef2-463b-bf8e-39ae2d7ebd55",
   "metadata": {},
   "source": [
    "# Reading the file and converting time stamps to total hours"
   ]
  },
  {
   "cell_type": "code",
   "execution_count": null,
   "id": "cf368b47-e3e3-4ac5-a896-0a6f7034ec6a",
   "metadata": {},
   "outputs": [],
   "source": [
    "data = ascii.read('dataset.txt')\n",
    "day=np.zeros(len(data))\n",
    "height=np.zeros(len(data))\n",
    "time=np.zeros(len(data))\n",
    "hours = np.zeros(len(data))\n",
    "day_hours = np.zeros(len(data))\n",
    "for i in range(len(data)):\n",
    "    day[i] = data[i][0]\n",
    "    datetime_obj = datetime.strptime(data[i][1], \"%H:%M\")  #parse time define the hour and the minute\n",
    "    hours[i] = datetime_obj.hour + datetime_obj.minute / 60     #add the minutes / 60 to the hours to get total hours\n",
    "    day_hours[i] = day[i] + hours[i] / 24\n",
    "    #rounded_hours = [round(hours,1)for hours in hours_list] \n",
    "    height[i] = data[i][2]\n",
    "print(height)"
   ]
  },
  {
   "cell_type": "markdown",
   "id": "9a77bf5e-8bf5-4f70-bbda-5e6efe85431d",
   "metadata": {},
   "source": [
    "# Making the best fit line"
   ]
  },
  {
   "cell_type": "code",
   "execution_count": null,
   "id": "2fd96ff2-fffb-4577-adef-686b87748f6f",
   "metadata": {},
   "outputs": [],
   "source": [
    "time = np.linspace(1,78,82)\n",
    "amplitude = 3.95\n",
    "frequency = 0.5\n",
    "phase = np.pi / -5\n",
    "bf_tide_height = (amplitude * np.sin(2 * np.pi * frequency * time + phase) + np.random.normal(scale=0.25, size=len(time))) + 2.7"
   ]
  },
  {
   "cell_type": "markdown",
   "id": "717c50f0-bf50-4aa5-b68b-3b689317d684",
   "metadata": {},
   "source": [
    "# Plotting the data and best fit line"
   ]
  },
  {
   "cell_type": "code",
   "execution_count": 4,
   "id": "995dc1a6-c0c1-4af1-a4d2-6f4a034cabe3",
   "metadata": {
    "scrolled": true
   },
   "outputs": [],
   "source": [
    "def scatter_plot(x, y,\n",
    "                 flag_save=True,    # save the figure?\n",
    "                 xlabel='Days',        # x-axis label\n",
    "                 ylabel='Tide Height(ft)',        # y-axis label\n",
    "                 lcolor='blue',      # line color\n",
    "                 pcolor='black',     # point color\n",
    "                 fs=14,):             # font size\n",
    "    \n",
    "    # Define a figure and axis\n",
    "    f, ax = plt.subplots(1, 1, figsize=(20, 12))\n",
    "\n",
    "    ax.grid(True)\n",
    "\n",
    "    ax.xaxis.set_tick_params(which='major', direction='in')\n",
    "    ax.yaxis.set_tick_params(which='major', direction='in')\n",
    "    ax.xaxis.set_tick_params(which='minor', direction='in')\n",
    "    ax.yaxis.set_tick_params(which='minor', direction='in')\n",
    "\n",
    "\n",
    "    ax.xaxis.set_major_locator(MultipleLocator(1.))\n",
    "    ax.xaxis.set_minor_locator(MultipleLocator(0.3))\n",
    "\n",
    "    ax.yaxis.set_major_locator(MultipleLocator(1.))\n",
    "    ax.yaxis.set_minor_locator(MultipleLocator(0.3))\n",
    "\n",
    "    # Plot y vs. x\n",
    "    ax.plot(x, y, color=lcolor, linewidth=1.5, linestyle='dashed', label='Tidal Movements')  # a line\n",
    "    ax.plot(time, bf_tide_height, label='Best Fit', color='orange', linestyle='-')\n",
    "    \n",
    "    yerr=0.25\n",
    "    ax.errorbar(x,y,yerr=0.25,fmt='bo',capsize=6.0,ecolor='green')     # fmt = format = blue dot\n",
    "\n",
    "    # Label our axes\n",
    "    ax.set_xlabel(xlabel, fontsize=fs)\n",
    "    ax.set_ylabel(ylabel, fontsize=fs)\n",
    "\n",
    "    ax.set_xlim(0, 42)\n",
    "    ax.set_ylim(-2, 8)\n",
    "\n",
    "    # Create a legend without a frame\n",
    "    # in the upper left-hand corner\n",
    "    ax.legend(loc='upper left', frameon=False)\n",
    "\n",
    "    plt.plot(x, y, ':', label='data')\n",
    "\n",
    "    # if flag_save:\n",
    "    # plt.savefig(fname='group_graph.pdf', bbox_inches='tight', dpi=400)\n",
    "\n",
    "print('Making a plot...')\n",
    "\n",
    "\n",
    "    #define x: Day of the year\n",
    "x_data = day_hours\n",
    "\n",
    "    #define y: Tide Height\n",
    "y_data = height\n",
    "\n",
    "# make the plot\n",
    "scatter_plot(x_data, y_data, time, bf_tide_height)\n",
    "\n",
    "# save the figure\n",
    "plt.savefig(fname='group_prod_graph.pdf', bbox_inches='tight', dpi=400)\n"
   ]
  },
  {
   "cell_type": "markdown",
   "id": "17caddff-e47f-4e45-ae34-e2c0197f91c8",
   "metadata": {},
   "source": [
    "# Attempting to plot the residuals "
   ]
  },
  {
   "cell_type": "code",
   "execution_count": null,
   "id": "6cc4782c-e2e8-4d99-806f-2576b6506bae",
   "metadata": {},
   "outputs": [],
   "source": [
    "#subtract best fit fn from the data to get residuals\n",
    "residuals = y_data - bf_tide_height\n",
    "\n",
    "# plot the residuals\n",
    "plt.figure(figsize=(12, 6))\n",
    "plt.hist(residuals, bins=15, color='paleturquoise', edgecolor='black')\n",
    "plt.xlabel('Residuals')\n",
    "plt.ylabel('Frequency')\n",
    "plt.title('Histogram of Residuals')\n",
    "plt.grid(True)\n",
    "plt.savefig('residuals_hist.pdf', bbox_inches='tight')\n",
    "plt.show()\n",
    "\n",
    "# calculate std of residuals\n",
    "std_dev = np.std(residuals)\n",
    "print(f\"Standard Deviation of Residuals: {std_dev:.4f}\")\n",
    "\n",
    "# calculate the errors \n",
    "assumed_error = 0.25  # Assumed experimental error\n",
    "print(f\"Assumed Experimental Error: {assumed_error}\")\n",
    "\n",
    "# Check if scatter in the data is larger than assumed experimental error\n",
    "if std_dev > assumed_error:\n",
    "    print(\"The scatter in the data is larger than the assumed experimental error.\")\n",
    "else:\n",
    "    print(\"The scatter in the data is in range of the assumed experimental error.\")\n",
    "\n",
    "# Estimate intrinsic scatter in the data after accounting for assumed measurement error\n",
    "intrinsic_scatter = np.sqrt(std_dev**2 - assumed_error**2)\n",
    "print(f\"Intrinsic Scatter in the Data: {intrinsic_scatter:.4f}\")\n"
   ]
  },
  {
   "cell_type": "markdown",
   "id": "b3f49ef3",
   "metadata": {},
   "source": [
    "# Find and plot the outlier"
   ]
  },
  {
   "cell_type": "code",
   "execution_count": null,
   "id": "bdba10a5-652c-45a6-a4d9-a5a683f9489e",
   "metadata": {},
   "outputs": [],
   "source": [
    "std_normal_tide = np.std(residuals)\n",
    "\n",
    "# 2ft outlier\n",
    "outlier = 2.0\n",
    "height_with_outlier = np.append(height, outlier)\n",
    "\n",
    "# Generate time array for the outlier (one extra time point)\n",
    "time_with_outlier = np.linspace(1, 79, 83)  # Adjust the length to match the extended dataset\n",
    "\n",
    "# Recalculate the best fit tide height with the outlier\n",
    "bf_tide_height_with_outlier = (amplitude * np.sin(2 * np.pi * frequency * time_with_outlier + phase)) + 2.7\n",
    "\n",
    "# Ensure both arrays have the same length\n",
    "if len(bf_tide_height_with_outlier) > len(height_with_outlier):\n",
    "    bf_tide_height_with_outlier = bf_tide_height_with_outlier[:-1]\n",
    "\n",
    "# Recalculate the residuals & STD with the outlier\n",
    "residuals_with_outlier = height_with_outlier - bf_tide_height_with_outlier  # Calculate residuals directly\n",
    "std_with_outlier = np.std(residuals_with_outlier)\n",
    "\n",
    "# Calculate the deviation of the 2ft outlier in terms of standard deviations\n",
    "tsunami_deviation_std = (outlier - np.mean(height)) / std_normal_tide\n",
    "\n",
    "# Print deviation\n",
    "print(f\"The 2ft tsunami deviation in terms of standard deviations from the normal tide distribution: {tsunami_deviation_std:.2f}\")"
   ]
  },
  {
   "cell_type": "code",
   "execution_count": null,
   "id": "e118493a",
   "metadata": {},
   "outputs": [],
   "source": [
    "# Generate a new histogram with the outlier included\n",
    "plt.figure(figsize=(12, 6))\n",
    "plt.hist(height_with_outlier, bins=15, color='paleturquoise', edgecolor='black')\n",
    "plt.xlabel('Tide Height(ft)')\n",
    "plt.ylabel('Frequency')\n",
    "plt.title('Histogram of Tides w/ Outlier')\n",
    "plt.grid(True)\n",
    "plt.savefig('tide_height_with_outlier.pdf', bbox_inches='tight')\n",
    "plt.show()\n"
   ]
  },
  {
   "cell_type": "code",
   "execution_count": null,
   "id": "c076900f",
   "metadata": {},
   "outputs": [],
   "source": []
  }
 ],
 "metadata": {
  "kernelspec": {
   "display_name": "Python 3",
   "language": "python",
   "name": "python3"
  },
  "language_info": {
   "codemirror_mode": {
    "name": "ipython",
    "version": 3
   },
   "file_extension": ".py",
   "mimetype": "text/x-python",
   "name": "python",
   "nbconvert_exporter": "python",
   "pygments_lexer": "ipython3",
   "version": "3.11.0 (v3.11.0:deaf509e8f, Oct 24 2022, 14:43:23) [Clang 13.0.0 (clang-1300.0.29.30)]"
  },
  "vscode": {
   "interpreter": {
    "hash": "aee8b7b246df8f9039afb4144a1f6fd8d2ca17a180786b69acc140d282b71a49"
   }
  }
 },
 "nbformat": 4,
 "nbformat_minor": 5
}

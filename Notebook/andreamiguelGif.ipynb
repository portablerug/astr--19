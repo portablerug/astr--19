{
 "cells": [
  {
   "cell_type": "markdown",
   "id": "260b31de",
   "metadata": {},
   "source": [
    "# Simple Animation drawing letter A\n",
    "Using .gif file extentsion to make a gif to print and draw the letter A"
   ]
  },
  {
   "cell_type": "code",
   "execution_count": 1,
   "id": "490f9e36",
   "metadata": {},
   "outputs": [],
   "source": [
    "import numpy as np\n",
    "import matplotlib.pyplot as plt\n",
    "import matplotlib.animation as animation\n",
    "from tqdm import tqdm"
   ]
  },
  {
   "cell_type": "code",
   "execution_count": 10,
   "id": "ae3d727b",
   "metadata": {},
   "outputs": [],
   "source": [
    "#Create some data to plot\n",
    "x = np.linspace (-5, -4, 256, endpoint = True)\n",
    "y = np.linspace (-4, -3, 256, endpoint = True)\n",
    "C, S = (2*x)+10, (-2*y)-6\n",
    "\n",
    "#Piecewise function\n",
    "A = np.linspace(-4.5, -3.5, 200)\n",
    "Y_pcwse = np.ones_like(A)\n",
    "\n",
    "\n",
    "#My name\n",
    "#piecewise functions\n",
    "fz_pnt = np.linspace(-6, -4, 200, endpoint=True)\n",
    "fz = -3\n",
    "\n",
    "fn = np.linspace(-3, -2, 100, endpoint=True)\n",
    "fn_pnt = fn-7\n",
    "\n",
    "fm = np.linspace(-2, -1, 256, endpoint=True)\n",
    "fm_pnt = fm-3\n",
    "\n",
    "fh = np.linspace(-6, -4, 200, endpoint=True)\n",
    "fh_pnt = -1"
   ]
  },
  {
   "cell_type": "markdown",
   "id": "386af09b",
   "metadata": {},
   "source": [
    "# Read in Defaults"
   ]
  },
  {
   "cell_type": "code",
   "execution_count": 11,
   "id": "ceebf0d2",
   "metadata": {},
   "outputs": [],
   "source": [
    "plt.style.use('./astr19_matplotlib_defaults.txt')"
   ]
  },
  {
   "cell_type": "markdown",
   "id": "026211d1",
   "metadata": {},
   "source": [
    "# Make a plot"
   ]
  },
  {
   "cell_type": "code",
   "execution_count": 17,
   "id": "ebbedf47",
   "metadata": {},
   "outputs": [
    {
     "ename": "ValueError",
     "evalue": "x and y must have same first dimension, but have shapes (1,) and (200,)",
     "output_type": "error",
     "traceback": [
      "\u001b[0;31m---------------------------------------------------------------------------\u001b[0m",
      "\u001b[0;31mValueError\u001b[0m                                Traceback (most recent call last)",
      "Cell \u001b[0;32mIn[17], line 21\u001b[0m\n\u001b[1;32m     19\u001b[0m ax\u001b[38;5;241m.\u001b[39mplot(fn_pnt, fn, zorder\u001b[38;5;241m=\u001b[39m\u001b[38;5;241m9\u001b[39m, color \u001b[38;5;241m=\u001b[39m \u001b[38;5;124m'\u001b[39m\u001b[38;5;124m#1f77b4\u001b[39m\u001b[38;5;124m'\u001b[39m)\n\u001b[1;32m     20\u001b[0m ax\u001b[38;5;241m.\u001b[39mplot(fm_pnt, fm, zorder\u001b[38;5;241m=\u001b[39m\u001b[38;5;241m9\u001b[39m, color \u001b[38;5;241m=\u001b[39m \u001b[38;5;124m'\u001b[39m\u001b[38;5;124m#1f77b4\u001b[39m\u001b[38;5;124m'\u001b[39m)\n\u001b[0;32m---> 21\u001b[0m \u001b[43max\u001b[49m\u001b[38;5;241;43m.\u001b[39;49m\u001b[43mplot\u001b[49m\u001b[43m(\u001b[49m\u001b[43mfh_pnt\u001b[49m\u001b[43m,\u001b[49m\u001b[43m \u001b[49m\u001b[43mfh\u001b[49m\u001b[43m \u001b[49m\u001b[38;5;241;43m*\u001b[39;49m\u001b[43m \u001b[49m\u001b[43mnp\u001b[49m\u001b[38;5;241;43m.\u001b[39;49m\u001b[43mones_like\u001b[49m\u001b[43m(\u001b[49m\u001b[43mfh_pnt\u001b[49m\u001b[43m)\u001b[49m\u001b[43m,\u001b[49m\u001b[43m \u001b[49m\u001b[43mzorder\u001b[49m\u001b[38;5;241;43m=\u001b[39;49m\u001b[38;5;241;43m9\u001b[39;49m\u001b[43m,\u001b[49m\u001b[43m \u001b[49m\u001b[43mcolor\u001b[49m\u001b[43m \u001b[49m\u001b[38;5;241;43m=\u001b[39;49m\u001b[43m \u001b[49m\u001b[38;5;124;43m'\u001b[39;49m\u001b[38;5;124;43m#1f77b4\u001b[39;49m\u001b[38;5;124;43m'\u001b[39;49m\u001b[43m)\u001b[49m\n\u001b[1;32m     23\u001b[0m ax\u001b[38;5;241m.\u001b[39mplot(fz_pnt, fz \u001b[38;5;241m*\u001b[39m np\u001b[38;5;241m.\u001b[39mones_like(fz_pnt), \u001b[38;5;124m'\u001b[39m\u001b[38;5;124mo\u001b[39m\u001b[38;5;124m'\u001b[39m, markevery\u001b[38;5;241m=\u001b[39m\u001b[38;5;241m10\u001b[39m, clip_on\u001b[38;5;241m=\u001b[39m\u001b[38;5;28;01mFalse\u001b[39;00m, zorder\u001b[38;5;241m=\u001b[39m\u001b[38;5;241m10\u001b[39m, ms\u001b[38;5;241m=\u001b[39m\u001b[38;5;241m6\u001b[39m, color\u001b[38;5;241m=\u001b[39m\u001b[38;5;124m\"\u001b[39m\u001b[38;5;124m#1f77b4\u001b[39m\u001b[38;5;124m\"\u001b[39m)\n\u001b[1;32m     24\u001b[0m ax\u001b[38;5;241m.\u001b[39mplot(fn_pnt, fn, \u001b[38;5;124m'\u001b[39m\u001b[38;5;124mo\u001b[39m\u001b[38;5;124m'\u001b[39m, markevery\u001b[38;5;241m=\u001b[39m\u001b[38;5;241m10\u001b[39m, clip_on\u001b[38;5;241m=\u001b[39m\u001b[38;5;28;01mFalse\u001b[39;00m, zorder\u001b[38;5;241m=\u001b[39m\u001b[38;5;241m10\u001b[39m, ms\u001b[38;5;241m=\u001b[39m\u001b[38;5;241m6\u001b[39m, color\u001b[38;5;241m=\u001b[39m\u001b[38;5;124m\"\u001b[39m\u001b[38;5;124m#1f77b4\u001b[39m\u001b[38;5;124m\"\u001b[39m)\n",
      "File \u001b[0;32m/Library/Frameworks/Python.framework/Versions/3.11/lib/python3.11/site-packages/matplotlib/axes/_axes.py:1721\u001b[0m, in \u001b[0;36mAxes.plot\u001b[0;34m(self, scalex, scaley, data, *args, **kwargs)\u001b[0m\n\u001b[1;32m   1478\u001b[0m \u001b[38;5;250m\u001b[39m\u001b[38;5;124;03m\"\"\"\u001b[39;00m\n\u001b[1;32m   1479\u001b[0m \u001b[38;5;124;03mPlot y versus x as lines and/or markers.\u001b[39;00m\n\u001b[1;32m   1480\u001b[0m \n\u001b[0;32m   (...)\u001b[0m\n\u001b[1;32m   1718\u001b[0m \u001b[38;5;124;03m(``'green'``) or hex strings (``'#008000'``).\u001b[39;00m\n\u001b[1;32m   1719\u001b[0m \u001b[38;5;124;03m\"\"\"\u001b[39;00m\n\u001b[1;32m   1720\u001b[0m kwargs \u001b[38;5;241m=\u001b[39m cbook\u001b[38;5;241m.\u001b[39mnormalize_kwargs(kwargs, mlines\u001b[38;5;241m.\u001b[39mLine2D)\n\u001b[0;32m-> 1721\u001b[0m lines \u001b[38;5;241m=\u001b[39m [\u001b[38;5;241m*\u001b[39m\u001b[38;5;28mself\u001b[39m\u001b[38;5;241m.\u001b[39m_get_lines(\u001b[38;5;28mself\u001b[39m, \u001b[38;5;241m*\u001b[39margs, data\u001b[38;5;241m=\u001b[39mdata, \u001b[38;5;241m*\u001b[39m\u001b[38;5;241m*\u001b[39mkwargs)]\n\u001b[1;32m   1722\u001b[0m \u001b[38;5;28;01mfor\u001b[39;00m line \u001b[38;5;129;01min\u001b[39;00m lines:\n\u001b[1;32m   1723\u001b[0m     \u001b[38;5;28mself\u001b[39m\u001b[38;5;241m.\u001b[39madd_line(line)\n",
      "File \u001b[0;32m/Library/Frameworks/Python.framework/Versions/3.11/lib/python3.11/site-packages/matplotlib/axes/_base.py:303\u001b[0m, in \u001b[0;36m_process_plot_var_args.__call__\u001b[0;34m(self, axes, data, *args, **kwargs)\u001b[0m\n\u001b[1;32m    301\u001b[0m     this \u001b[38;5;241m+\u001b[39m\u001b[38;5;241m=\u001b[39m args[\u001b[38;5;241m0\u001b[39m],\n\u001b[1;32m    302\u001b[0m     args \u001b[38;5;241m=\u001b[39m args[\u001b[38;5;241m1\u001b[39m:]\n\u001b[0;32m--> 303\u001b[0m \u001b[38;5;28;01myield from\u001b[39;00m \u001b[38;5;28;43mself\u001b[39;49m\u001b[38;5;241;43m.\u001b[39;49m\u001b[43m_plot_args\u001b[49m\u001b[43m(\u001b[49m\n\u001b[1;32m    304\u001b[0m \u001b[43m    \u001b[49m\u001b[43maxes\u001b[49m\u001b[43m,\u001b[49m\u001b[43m \u001b[49m\u001b[43mthis\u001b[49m\u001b[43m,\u001b[49m\u001b[43m \u001b[49m\u001b[43mkwargs\u001b[49m\u001b[43m,\u001b[49m\u001b[43m \u001b[49m\u001b[43mambiguous_fmt_datakey\u001b[49m\u001b[38;5;241;43m=\u001b[39;49m\u001b[43mambiguous_fmt_datakey\u001b[49m\u001b[43m)\u001b[49m\n",
      "File \u001b[0;32m/Library/Frameworks/Python.framework/Versions/3.11/lib/python3.11/site-packages/matplotlib/axes/_base.py:499\u001b[0m, in \u001b[0;36m_process_plot_var_args._plot_args\u001b[0;34m(self, axes, tup, kwargs, return_kwargs, ambiguous_fmt_datakey)\u001b[0m\n\u001b[1;32m    496\u001b[0m     axes\u001b[38;5;241m.\u001b[39myaxis\u001b[38;5;241m.\u001b[39mupdate_units(y)\n\u001b[1;32m    498\u001b[0m \u001b[38;5;28;01mif\u001b[39;00m x\u001b[38;5;241m.\u001b[39mshape[\u001b[38;5;241m0\u001b[39m] \u001b[38;5;241m!=\u001b[39m y\u001b[38;5;241m.\u001b[39mshape[\u001b[38;5;241m0\u001b[39m]:\n\u001b[0;32m--> 499\u001b[0m     \u001b[38;5;28;01mraise\u001b[39;00m \u001b[38;5;167;01mValueError\u001b[39;00m(\u001b[38;5;124mf\u001b[39m\u001b[38;5;124m\"\u001b[39m\u001b[38;5;124mx and y must have same first dimension, but \u001b[39m\u001b[38;5;124m\"\u001b[39m\n\u001b[1;32m    500\u001b[0m                      \u001b[38;5;124mf\u001b[39m\u001b[38;5;124m\"\u001b[39m\u001b[38;5;124mhave shapes \u001b[39m\u001b[38;5;132;01m{\u001b[39;00mx\u001b[38;5;241m.\u001b[39mshape\u001b[38;5;132;01m}\u001b[39;00m\u001b[38;5;124m and \u001b[39m\u001b[38;5;132;01m{\u001b[39;00my\u001b[38;5;241m.\u001b[39mshape\u001b[38;5;132;01m}\u001b[39;00m\u001b[38;5;124m\"\u001b[39m)\n\u001b[1;32m    501\u001b[0m \u001b[38;5;28;01mif\u001b[39;00m x\u001b[38;5;241m.\u001b[39mndim \u001b[38;5;241m>\u001b[39m \u001b[38;5;241m2\u001b[39m \u001b[38;5;129;01mor\u001b[39;00m y\u001b[38;5;241m.\u001b[39mndim \u001b[38;5;241m>\u001b[39m \u001b[38;5;241m2\u001b[39m:\n\u001b[1;32m    502\u001b[0m     \u001b[38;5;28;01mraise\u001b[39;00m \u001b[38;5;167;01mValueError\u001b[39;00m(\u001b[38;5;124mf\u001b[39m\u001b[38;5;124m\"\u001b[39m\u001b[38;5;124mx and y can be no greater than 2D, but have \u001b[39m\u001b[38;5;124m\"\u001b[39m\n\u001b[1;32m    503\u001b[0m                      \u001b[38;5;124mf\u001b[39m\u001b[38;5;124m\"\u001b[39m\u001b[38;5;124mshapes \u001b[39m\u001b[38;5;132;01m{\u001b[39;00mx\u001b[38;5;241m.\u001b[39mshape\u001b[38;5;132;01m}\u001b[39;00m\u001b[38;5;124m and \u001b[39m\u001b[38;5;132;01m{\u001b[39;00my\u001b[38;5;241m.\u001b[39mshape\u001b[38;5;132;01m}\u001b[39;00m\u001b[38;5;124m\"\u001b[39m)\n",
      "\u001b[0;31mValueError\u001b[0m: x and y must have same first dimension, but have shapes (1,) and (200,)"
     ]
    },
    {
     "data": {
      "image/png": "[encoded data removed]",
      "text/plain": [
       "<Figure size 1000x600 with 1 Axes>"
      ]
     },
     "metadata": {},
     "output_type": "display_data"
    }
   ],
   "source": [
    "fig = plt.figure(linewidth=1, figsize=(10,6))\n",
    "ax = plt.subplot(1,1,1, aspect=1)\n",
    "ax.plot(x, C, zorder=9, color='#1f77b4', label='cosine(x)')\n",
    "ax.plot(y, S, zorder=9, color='#ff7f0e', label='sin(x)')\n",
    "ax.plot(x, C, 'o', markevery=10, clip_on=False, zorder=10, ms=6, color=\"#1f77b4\")\n",
    "ax.plot(y, S, 'o', markevery=10, clip_on=False, zorder=10, ms=6, color='#ff7f0e')\n",
    "\n",
    "#Horizontal line\n",
    "ax.plot(A, Y_pcwse, zorder=9, color='#ffa500', label='bar')\n",
    "ax.plot(A,Y_pcwse, 'o', markevery=10, clip_on=False, zorder=10, ms=6, color='#ffa500')\n",
    "\n",
    "ax.plot(x, C, 'o', markevery=10, clip_on=False, zorder=11, ms=3, color='white')\n",
    "ax.plot(y, S, 'o', markevery=10, clip_on=False, zorder=11, ms=3, color='white')\n",
    "ax.plot(A, Y_pcwse, 'o', markevery=10, clip_on=False, zorder=11, ms=3, color='white')\n",
    "\n",
    "\n",
    "#My name\n",
    "ax.plot(fz_pnt, fz * np.ones_like(fz_pnt), zorder=9, color = '#1f77b4', label='Miguel')\n",
    "ax.plot(fn_pnt, fn, zorder=9, color = '#1f77b4')\n",
    "ax.plot(fm_pnt, fm, zorder=9, color = '#1f77b4')\n",
    "ax.plot(fh_pnt, fh * np.ones_like(fh_pnt), zorder=9, color = '#1f77b4')\n",
    "\n",
    "ax.plot(fz_pnt, fz * np.ones_like(fz_pnt), 'o', markevery=10, clip_on=False, zorder=10, ms=6, color=\"#1f77b4\")\n",
    "ax.plot(fn_pnt, fn, 'o', markevery=10, clip_on=False, zorder=10, ms=6, color=\"#1f77b4\")\n",
    "ax.plot(fm_pnt, fm, 'o', markevery=10, clip_on=False, zorder=10, ms=6, color=\"#1f77b4\")\n",
    "ax.plot(fh_pnt, fh * np.ones_like(fh_pnt), 'o', markevery=10, clip_on=False, zorder=10, ms=6, color=\"#1f77b4\")\n",
    "\n",
    "\n",
    "#ax.plot(fz_pnt, np.ones_like(fz_pnt)* fz, 'o', markevery=10, clip_on=False, zorder=11, ms=3, color='white')\n",
    "#ax.plot(fn_pnt, fn, 'o', markevery=10, clip_on=False, zorder=11, ms=3, color='white')\n",
    "#ax.plot(fm_pnt, fm, 'o', markevery=10, clip_on=False, zorder=11, ms=3, color='white')\n",
    "#ax.plot(fh_pnt, fh * np.ones_like(fh_pnt), 'o', markevery=10, clip_on=False, zorder=11, ms=3, color='white')\n",
    "\n",
    "\n",
    "ax.set_xlabel('x') \n",
    "ax.set_ylabel('y')\n",
    "\n",
    "ax.legend()\n",
    "plt.savefig('andreamiguel.png', bbox_inches='tight', facecolor='white')"
   ]
  },
  {
   "cell_type": "markdown",
   "id": "a769f50a",
   "metadata": {},
   "source": [
    "# Create animation and save as GIF"
   ]
  },
  {
   "cell_type": "code",
   "execution_count": null,
   "id": "cb6b47a3",
   "metadata": {},
   "outputs": [
    {
     "name": "stderr",
     "output_type": "stream",
     "text": [
      "100%|█████████████████████████████████████████| 256/256 [00:23<00:00,  9.97it/s]"
     ]
    }
   ],
   "source": [
    "fig = plt.figure(linewidth=1, figsize=(6,5))\n",
    "ax = plt.subplot()\n",
    "\n",
    "#Data\n",
    "X = np.linspace (-5, -4, 256, endpoint = True)\n",
    "Y = np.linspace (-4, -3, 256, endpoint = True)\n",
    "C, S = (2*x)+10, (-2*y)-6\n",
    "\n",
    "#Piecewise function\n",
    "A = np.linspace(-4.5, -3.5, 200)\n",
    "Y_pcwse = np.ones_like(A)\n",
    "\n",
    "(line1, ) = ax.plot(X, C, zorder=9, color='#1f77b4', marker='o', markevery=[-1], markeredgecolor='white', \n",
    "label= 'cosine(x)')\n",
    "(line2, ) = ax.plot(Y, S, zorder=9, color='#ff7f0e', marker='o', markevery=[-1], markeredgecolor='white',\n",
    "label='sin(x)')\n",
    "(line3, )= ax.plot(A, Y_pcwse, zorder=9, color='#ffa500', marker='o', markevery=[-1], markeredgecolor='white',\n",
    "label='bar')\n",
    "\n",
    "#add some nice points\n",
    "(dots1, ) = ax.plot(X, C, 'o', markevery=10, clip_on=False, zorder=10, ms=6, color=\"#1f77b4\")\n",
    "(dots2, ) = ax.plot(Y, S, 'o', markevery=10, clip_on=False, zorder=10, ms=6, color='#ff7f0e')\n",
    "(dots3, ) = ax.plot(A,Y_pcwse, 'o', markevery=10, clip_on=False, zorder=10, ms=6, color='#ffa500')\n",
    "(wdots1, ) = ax.plot(X, C, 'o', markevery=10, clip_on=False, zorder=11, ms=3, color='white')\n",
    "(wdots2, ) = ax.plot(Y, S, 'o', markevery=10, clip_on=False, zorder=11, ms=3, color='white')\n",
    "(wdots3, ) = ax.plot(A, Y_pcwse, 'o', markevery=10, clip_on=False, zorder=11, ms=3, color='white')\n",
    "\n",
    "#draw the legend\n",
    "ax.set_xlabel('x') \n",
    "ax.set_ylabel('y')\n",
    "ax.legend(frameon=False,loc='upper left')\n",
    "\n",
    "#function that updates the plot\n",
    "#based on the frame number\n",
    "def update(frame): \n",
    "    line1.set_data(X[:frame], C[:frame])\n",
    "    line2.set_data(Y[:frame], S[:frame])\n",
    "    line3.set_data(A[:frame], Y_pcwse[:frame])\n",
    "    dots1.set_data(X[:frame], C[:frame])\n",
    "    dots2.set_data(Y[:frame], S[:frame])\n",
    "    dots3.set_data(A[:frame], Y_pcwse[:frame])\n",
    "    wdots1.set_data(X[:frame], C[:frame])\n",
    "    wdots2.set_data(Y[:frame], S[:frame])\n",
    "    wdots3.set_data(A[:frame], Y_pcwse[:frame])\n",
    "    \n",
    "#tighten up the layout\n",
    "plt.tight_layout()\n",
    "\n",
    "#to determine what the output animation file is\n",
    "#choose the writer function from animation\n",
    "#this selects GIF\n",
    "writer = animation.ImageMagickWriter(fps=30)\n",
    "ani = animation.FuncAnimation(fig, update, interval=10, frames=len(X))\n",
    "\n",
    "\n",
    "#create a progress bar\n",
    "bar = tqdm(total=len(X))\n",
    "ani.save('andreaA.gif', writer=writer, dpi=300, progress_callback = lambda i, n: bar.update(1))\n",
    "bar.close()"
   ]
  },
  {
   "cell_type": "code",
   "execution_count": null,
   "id": "4a86d27f",
   "metadata": {},
   "outputs": [],
   "source": [
    "print(\"done!\")"
   ]
  },
  {
   "cell_type": "code",
   "execution_count": null,
   "id": "dc924cb5",
   "metadata": {},
   "outputs": [],
   "source": []
  }
 ],
 "metadata": {
  "kernelspec": {
   "display_name": "Python 3 (ipykernel)",
   "language": "python",
   "name": "python3"
  },
  "language_info": {
   "codemirror_mode": {
    "name": "ipython",
    "version": 3
   },
   "file_extension": ".py",
   "mimetype": "text/x-python",
   "name": "python",
   "nbconvert_exporter": "python",
   "pygments_lexer": "ipython3",
   "version": "3.11.0"
  }
 },
 "nbformat": 4,
 "nbformat_minor": 5
}
